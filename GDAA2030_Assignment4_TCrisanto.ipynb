{
 "cells": [
  {
   "cell_type": "markdown",
   "metadata": {},
   "source": [
    "# Assignment 4 GDAA2030 Image Analytics\n",
    "### By: Tato' Crisanto\n",
    "### For: James Rapaport\n",
    "\n",
    "The purpose of this assignment is to analyse crop yield using the NDVI vegetation index. This will be for the years 2013-2023 for the province of Prince Edward Island."
   ]
  },
  {
   "cell_type": "code",
   "execution_count": 1,
   "metadata": {},
   "outputs": [],
   "source": [
    "import os\n",
    "from zipfile import ZipFile\n",
    "import rasterio\n",
    "from rasterio.mask import mask\n",
    "from rasterio.enums import Resampling\n",
    "from rasterio.features import rasterize, Affine\n",
    "from rasterio.warp import calculate_default_transform, reproject \n",
    "import shapely\n",
    "from shapely.geometry import shape, mapping, box\n",
    "from shapely.ops import transform\n",
    "import json\n",
    "import numpy as np\n",
    "import glob\n",
    "from scipy.integrate import trapz\n",
    "import sqlite3\n",
    "import matplotlib.pyplot as plt\n",
    "from scipy.stats import linregress"
   ]
  },
  {
   "cell_type": "markdown",
   "metadata": {},
   "source": [
    "### Task 1:\n",
    "Create a raster dataset for each of the years 2013-2023 that records the proportion of each pixel that is cropped with potatoes. This chunk retreives the coordinate reference system from eVIIRS."
   ]
  },
  {
   "cell_type": "code",
   "execution_count": 2,
   "metadata": {},
   "outputs": [
    {
     "name": "stdout",
     "output_type": "stream",
     "text": [
      "EPSG:4326\n",
      "EPSG:4326\n"
     ]
    }
   ],
   "source": [
    "# Define directories\n",
    "aci_dir = 'C:/geospatial2030gdaa/Assignment4TC/annual-crop-inventory/'\n",
    "eviirs_path = 'C:/geospatial2030gdaa/Assignment4TC/eviirs-ndvi-20231203.zip'\n",
    "out_dirs = 'C:/geospatial2030gdaa/Assignment4TC/output-aci/'\n",
    "years = [2013, 2014, 2015, 2016, 2017, 2018, 2019, 2020, 2021, 2022, 2023]\n",
    "\n",
    "# Retrive eVIIRS crs to use for ACI crs conversion for the given years\n",
    "with rasterio.open(f'zip://{eviirs_path}!/GN_eVSH_NDVI.2013.121-130.1KM.VI_NDVI.001.2023098064738.tif') as eviirs:\n",
    "    eviirs_crs = eviirs.crs\n",
    "    \n",
    "os.makedirs(out_dirs, exist_ok=True)\n",
    "\n",
    "for y in years:\n",
    "    aci_zip = os.path.join(aci_dir, f'aci_{y}_pe.zip')\n",
    "    out_path = os.path.join(out_dirs,f'output_aci{y}_pe.tif')\n",
    "    \n",
    "    with rasterio.open(f'zip://{aci_zip}!/aci_{y}_pe.tif') as aci:\n",
    "        transform, width, height = calculate_default_transform(\n",
    "            aci.crs,\n",
    "            eviirs_crs,\n",
    "            aci.width,\n",
    "            aci.height,\n",
    "            *aci.bounds\n",
    "        )\n",
    "        profile = aci.meta.copy()\n",
    "        profile.update({\n",
    "            'crs': eviirs_crs,\n",
    "            'transform': transform,\n",
    "            'width': width,\n",
    "            'height': height\n",
    "        })\n",
    "        \n",
    "        with rasterio.open(out_path, 'w', **profile) as output:\n",
    "            for i in range(1, aci.count +1):\n",
    "                reproject(\n",
    "                    source=rasterio.band(aci, i),\n",
    "                    destination=rasterio.band(output, i),\n",
    "                    src_transform=aci.transform,\n",
    "                    src_crs=aci.crs,\n",
    "                    dst_transform=transform,\n",
    "                    dst_crs=eviirs_crs,\n",
    "                    resampling=Resampling.nearest\n",
    "                )\n",
    "                \n",
    "# Check to make sure the crs are correct\n",
    "print(eviirs.crs)\n",
    "print(output.crs)"
   ]
  },
  {
   "cell_type": "markdown",
   "metadata": {},
   "source": [
    "This chunk retrieved the bounding box of eVIIRS."
   ]
  },
  {
   "cell_type": "code",
   "execution_count": 3,
   "metadata": {},
   "outputs": [],
   "source": [
    "# Define new cropped directory\n",
    "crop_dir = 'C:/geospatial2030gdaa/Assignment4TC/crop_aci/'\n",
    "\n",
    "os.makedirs(crop_dir, exist_ok=True)\n",
    "\n",
    "# Retrieve bounding box for eVIIRS\n",
    "with rasterio.open(f'zip://{eviirs_path}!/GN_eVSH_NDVI.2013.121-130.1KM.VI_NDVI.001.2023098064738.tif') as eviirs:\n",
    "    bbox = box(*eviirs.bounds)\n",
    "    bbox_geojson = json.loads(json.dumps(bbox.__geo_interface__))\n",
    "    \n",
    "# Loop through reprojected aci datasets for cropping\n",
    "for y in years:\n",
    "    in_path = os.path.join(out_dirs, f'output_aci{y}_pe.tif')\n",
    "    out_path = os.path.join(crop_dir, f'crop_aci{y}_pe.tif')\n",
    "    \n",
    "    with rasterio.open(in_path) as source:\n",
    "        out_image, out_transform = mask(source, [bbox_geojson], crop=True)\n",
    "        out_profile = source.meta.copy()\n",
    "        out_profile.update({'driver': \"GTiff\",\n",
    "                            'height': out_image.shape[1],\n",
    "                            'width': out_image.shape[2],\n",
    "                            'transform': out_transform\n",
    "        })\n",
    "        \n",
    "        with rasterio.open(out_path, 'w', **out_profile) as out:\n",
    "            out.write(out_image)"
   ]
  },
  {
   "cell_type": "markdown",
   "metadata": {},
   "source": [
    "This chunk loops through to apply the mask the ACI as well as calculates the proportion of the cropped potatoes for the given years."
   ]
  },
  {
   "cell_type": "code",
   "execution_count": 4,
   "metadata": {},
   "outputs": [],
   "source": [
    "# Define potato proportion directory\n",
    "potato_dir = 'C:/geospatial2030gdaa/Assignment4TC/potato_proportions'\n",
    "\n",
    "os.makedirs(potato_dir, exist_ok=True)\n",
    "\n",
    "with rasterio.open(f'zip://{eviirs_path}!/GN_eVSH_NDVI.2013.121-130.1KM.VI_NDVI.001.2023098064738.tif') as eviirs:\n",
    "    eviirs_transform = eviirs.transform\n",
    "    eviirs_height = eviirs.height \n",
    "    eviirs_width = eviirs.width   \n",
    "    \n",
    "    # Loop through cropped dataset to calculate potato proportion\n",
    "    for year in years:\n",
    "        in_path = os.path.join(crop_dir, f'crop_aci{year}_pe.tif')\n",
    "        \n",
    "        with rasterio.open(in_path, 'r') as aci:\n",
    "            potato_prop = np.zeros((eviirs_height, eviirs_width), dtype=np.float32)\n",
    "            for row in range(eviirs_height):\n",
    "                for col in range(eviirs_width):\n",
    "                    x, y = eviirs_transform *(col, row)\n",
    "                    pxl_geom = box(x, y, x + eviirs_transform.a, y + eviirs_transform.e)\n",
    "                    geosjon_geom = mapping(pxl_geom)\n",
    "                    \n",
    "                    # Test the geometry to mask the aci\n",
    "                    try:\n",
    "                        out_image, out_transform = mask(aci, [geosjon_geom], crop=True)\n",
    "                        potato_pixel = np.count_nonzero(out_image == 177)\n",
    "                        all_pixel = out_image.size\n",
    "                        \n",
    "                        if all_pixel > 0:\n",
    "                            potato_prop[row, col] = (potato_pixel / all_pixel) * 100\n",
    "                        else:\n",
    "                            potato_prop[row, col] = 0\n",
    "                    except ValueError:\n",
    "                        potato_prop[row, col] = np.nan\n",
    "                        \n",
    "            # Output new tif\n",
    "            out_path = os.path.join(potato_dir, f'potato{year}_pe.tif')\n",
    "            \n",
    "            with rasterio.open(out_path, 'w',\n",
    "                               driver='GTiff',\n",
    "                               width=eviirs_width,\n",
    "                               height=eviirs_height,\n",
    "                               count=1,\n",
    "                               dtype='float32',\n",
    "                               crs=eviirs.crs,\n",
    "                               transform=eviirs_transform) as potato:\n",
    "                potato.write(potato_prop, 1)\n",
    "    "
   ]
  },
  {
   "cell_type": "markdown",
   "metadata": {},
   "source": [
    "### Task 2:\n",
    "To produce a linear regression model plotting time-integrated NDVI against known potato yield. This chunk calculates the integrated NDVI values and the average yield for the given years."
   ]
  },
  {
   "cell_type": "code",
   "execution_count": 5,
   "metadata": {},
   "outputs": [
    {
     "name": "stderr",
     "output_type": "stream",
     "text": [
      "C:\\Users\\tatoc\\AppData\\Local\\Temp\\ipykernel_29972\\4103297398.py:38: DeprecationWarning: 'scipy.integrate.trapz' is deprecated in favour of 'scipy.integrate.trapezoid' and will be removed in SciPy 1.14.0\n",
      "  integrate_ndvi = trapz(integrate_ndvi_profile, day_num)\n"
     ]
    }
   ],
   "source": [
    "# Set threshold\n",
    "threshold = 77\n",
    "eviirs_dir = 'C:/geospatial2030gdaa/Assignment4TC/eviirs-ndvi-20231203'\n",
    "\n",
    "\n",
    "# Initiate lists for NDVI and yield value storage\n",
    "integrate_ndvi_val = []\n",
    "ave_yield_val = []\n",
    "\n",
    "# Define function to fin eVIIRS value for given year\n",
    "def eviirs_file(year):\n",
    "    pattern = f'GN_eVSH_NDVI.{year}*.tif'\n",
    "    file_path = glob.glob(os.path.join(eviirs_dir, pattern))\n",
    "    file_path = [path for path in file_path if 'QUAL' not in os.path.basename(path)]\n",
    "    return file_path\n",
    "\n",
    "# Define function to calculate integrated NDVI profiles for given years\n",
    "def calc_int_NDVI(crop_file, year, threshold):\n",
    "    integrate_ndvi_profile = []\n",
    "    day_num = []\n",
    "    \n",
    "    #Find the eVIIRS files fro the given year\n",
    "    file_path = eviirs_file(year)\n",
    "    for file in file_path:\n",
    "        day_num.append(int(file.split('.')[2][4:7]))\n",
    "        try:\n",
    "            with rasterio.open(file) as eviirs_ndvi:\n",
    "                with rasterio.open(crop_file, 'r') as crop_prop:\n",
    "                    ndvi_data = eviirs_ndvi.read(1)\n",
    "                    crop_prop_mask = crop_prop.read(1) >= threshold\n",
    "                    ndvi_data = ndvi_data * crop_prop_mask\n",
    "                    mean_ndvi = np.mean(ndvi_data[ndvi_data != 0]) / 10000  \n",
    "                    integrate_ndvi_profile.append(mean_ndvi)\n",
    "        except Exception as e:\n",
    "            print(f\"Error processing file {file_path}: {e}\")\n",
    "            \n",
    "    # Use trapz to integrate NDVI\n",
    "    integrate_ndvi = trapz(integrate_ndvi_profile, day_num)\n",
    "    integrate_ndvi_val.append(integrate_ndvi)\n",
    "    # print(year, integrate_ndvi)\n",
    "    return integrate_ndvi\n",
    "\n",
    "# Connect to SQL database\n",
    "connect = sqlite3.connect(r'C:\\geospatial2030gdaa\\Assignment4TC\\statistics-canada.db')\n",
    "cursor = connect.cursor()\n",
    "\n",
    "# Loop through the years\n",
    "for year in years:\n",
    "    proportion_path = os.path.join(potato_dir, f'potato{year}_pe.tif')\n",
    "    integrate_ndvi = calc_int_NDVI(proportion_path, year, threshold)\n",
    "    \n",
    "    # Get yeild data\n",
    "    cursor.execute(\"\"\"\n",
    "                   select year, name, average_yield\n",
    "        from potato_production \n",
    "        where year = ? and name = 'Prince Edward Island'\n",
    "        order by year\n",
    "    \"\"\", (year,))\n",
    "    \n",
    "    result = cursor.fetchone()\n",
    "    if result:\n",
    "        year, name, average_yield = result\n",
    "        # print(f\"Year: {year}, Average Yield: {average_yield}\")\n",
    "        ave_yield_val.append(average_yield)\n",
    "    else:\n",
    "        print(f\"No data for year {year}.\")\n",
    "        \n",
    "# Close connection\n",
    "connect.close()\n",
    "\n",
    "# Convert to numpy arrays\n",
    "integrate_ndvi_array = np.array(integrate_ndvi_val)\n",
    "ave_yield_array = np.array(ave_yield_val)"
   ]
  },
  {
   "cell_type": "markdown",
   "metadata": {},
   "source": [
    "This chunk plots the results."
   ]
  },
  {
   "cell_type": "code",
   "execution_count": 6,
   "metadata": {},
   "outputs": [
    {
     "data": {
      "image/png": "[encoded data removed]",
      "text/plain": [
       "<Figure size 640x480 with 1 Axes>"
      ]
     },
     "metadata": {},
     "output_type": "display_data"
    }
   ],
   "source": [
    "# Plot Yield and Integrated NDVI\n",
    "ndvi = np.array(integrate_ndvi_array)\n",
    "potato_yield = np.array(ave_yield_array)\n",
    "\n",
    "# Make sure inputs are not empty and have more than one element\n",
    "if ndvi.size > 1 and potato_yield.size > 1:\n",
    "    slope, intercept, r_value, p_value, std_err = linregress(ndvi, potato_yield)\n",
    "    \n",
    "    # Define predict function\n",
    "    def predict(x):\n",
    "        return slope * x + intercept\n",
    "    \n",
    "    # Generate line:\n",
    "    fit_line = predict(ndvi)\n",
    "    \n",
    "    # Plot\n",
    "    plt.scatter(ndvi, potato_yield, color='blue')\n",
    "    plt.plot(ndvi, fit_line, color='green')\n",
    "    plt.xlabel('Integrated NDVI')\n",
    "    plt.ylabel('Yield')\n",
    "    plt.title('Yield vs. Integrated NDVI')\n",
    "    plt.text(max(ndvi) - 0.5*(max(ndvi) - min(ndvi)), max(potato_yield) - 0.05*(max(potato_yield) - min(potato_yield)), f'y = {slope:.2f}x + {intercept:.2f}', fontsize=12)\n",
    "    plt.text(max(ndvi) - 0.5*(max(ndvi) - min(ndvi)), max(potato_yield) - 0.15*(max(potato_yield) - min(potato_yield)), f'$R^2$ = {r_value**2:.2f}', fontsize=12)\n",
    "else:\n",
    "    print(\"Error: Not enough data for analysis.\")\n"
   ]
  },
  {
   "cell_type": "markdown",
   "metadata": {},
   "source": [
    "I used a 77% threshold since 80 was too high and one of my years was unable to have at least 80% therefore my NDVI values were all zeros. "
   ]
  }
 ],
 "metadata": {
  "kernelspec": {
   "display_name": "geospatial2030gdaa",
   "language": "python",
   "name": "python3"
  },
  "language_info": {
   "codemirror_mode": {
    "name": "ipython",
    "version": 3
   },
   "file_extension": ".py",
   "mimetype": "text/x-python",
   "name": "python",
   "nbconvert_exporter": "python",
   "pygments_lexer": "ipython3",
   "version": "3.12.3"
  }
 },
 "nbformat": 4,
 "nbformat_minor": 2
}
